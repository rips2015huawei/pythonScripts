{
 "metadata": {
  "name": "",
  "signature": "sha256:68cfb1f339a5f4c0141a142ec47b12edd36dfac485d9334c8df0fffedc43ec58"
 },
 "nbformat": 3,
 "nbformat_minor": 0,
 "worksheets": []
}